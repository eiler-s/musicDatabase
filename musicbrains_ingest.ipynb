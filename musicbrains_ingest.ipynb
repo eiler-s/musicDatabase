{
 "cells": [
  {
   "cell_type": "markdown",
   "metadata": {},
   "source": [
    "## Ingest the CSV file into Big Query:"
   ]
  },
  {
   "cell_type": "code",
   "execution_count": 11,
   "metadata": {},
   "outputs": [],
   "source": [
    "dataset_id = \"musicbrainz_staging\""
   ]
  },
  {
   "cell_type": "code",
   "execution_count": 12,
   "metadata": {},
   "outputs": [
    {
     "name": "stdout",
     "output_type": "stream",
     "text": [
      "Dataset 'earnest-keep-266820:musicbrainz_staging' successfully created.\n"
     ]
    }
   ],
   "source": [
    "!bq --location=US mk --dataset {dataset_id}"
   ]
  },
  {
   "cell_type": "code",
   "execution_count": 13,
   "metadata": {},
   "outputs": [
    {
     "name": "stdout",
     "output_type": "stream",
     "text": [
      "Waiting on bqjob_r422361c28b268920_000001706f324976_1 ... (6s) Current status: DONE   \n"
     ]
    }
   ],
   "source": [
    "!bq --location=US load --autodetect\\\n",
    "--source_format=CSV {dataset_id}.Area \\\n",
    "'gs://cs327e_music_data/music_brainz_staging/area'"
   ]
  },
  {
   "cell_type": "code",
   "execution_count": 15,
   "metadata": {},
   "outputs": [
    {
     "data": {
      "text/html": [
       "<div>\n",
       "<style scoped>\n",
       "    .dataframe tbody tr th:only-of-type {\n",
       "        vertical-align: middle;\n",
       "    }\n",
       "\n",
       "    .dataframe tbody tr th {\n",
       "        vertical-align: top;\n",
       "    }\n",
       "\n",
       "    .dataframe thead th {\n",
       "        text-align: right;\n",
       "    }\n",
       "</style>\n",
       "<table border=\"1\" class=\"dataframe\">\n",
       "  <thead>\n",
       "    <tr style=\"text-align: right;\">\n",
       "      <th></th>\n",
       "      <th>f0_</th>\n",
       "    </tr>\n",
       "  </thead>\n",
       "  <tbody>\n",
       "    <tr>\n",
       "      <th>0</th>\n",
       "      <td>118076</td>\n",
       "    </tr>\n",
       "  </tbody>\n",
       "</table>\n",
       "</div>"
      ],
      "text/plain": [
       "      f0_\n",
       "0  118076"
      ]
     },
     "execution_count": 15,
     "metadata": {},
     "output_type": "execute_result"
    }
   ],
   "source": [
    "%%bigquery\n",
    "select count(*) from musicbrainz_staging.Area limit 5"
   ]
  },
  {
   "cell_type": "code",
   "execution_count": 30,
   "metadata": {},
   "outputs": [
    {
     "name": "stdout",
     "output_type": "stream",
     "text": [
      "Waiting on bqjob_r367c2cdc70698e0a_000001706f49a822_1 ... (47s) Current status: DONE   \n",
      "Warnings encountered during job execution:\n",
      "\n",
      "[gs://cs327e_music_data/music_brainz_staging/artist] Error while reading data, error message: Error detected while parsing row starting at position: 384845. Error: Data between close double quote (\") and field separator.\n",
      "\n",
      "[gs://cs327e_music_data/music_brainz_staging/artist] Error while reading data, error message: Error detected while parsing row starting at position: 1335605. Error: Data between close double quote (\") and field separator.\n",
      "\n",
      "[gs://cs327e_music_data/music_brainz_staging/artist] Error while reading data, error message: Error detected while parsing row starting at position: 1338596. Error: Data between close double quote (\") and field separator.\n",
      "\n",
      "[gs://cs327e_music_data/music_brainz_staging/artist] Error while reading data, error message: Error detected while parsing row starting at position: 2178639. Error: Data between close double quote (\") and field separator.\n",
      "\n",
      "[gs://cs327e_music_data/music_brainz_staging/artist] Error while reading data, error message: Error detected while parsing row starting at position: 4207087. Error: Data between close double quote (\") and field separator.\n",
      "\n"
     ]
    }
   ],
   "source": [
    "!bq --location=US load --autodetect --max_bad_records 1000\\\n",
    "--source_format=CSV {dataset_id}.Artist \\\n",
    "'gs://cs327e_music_data/music_brainz_staging/artist'"
   ]
  },
  {
   "cell_type": "code",
   "execution_count": 32,
   "metadata": {},
   "outputs": [
    {
     "data": {
      "text/html": [
       "<div>\n",
       "<style scoped>\n",
       "    .dataframe tbody tr th:only-of-type {\n",
       "        vertical-align: middle;\n",
       "    }\n",
       "\n",
       "    .dataframe tbody tr th {\n",
       "        vertical-align: top;\n",
       "    }\n",
       "\n",
       "    .dataframe thead th {\n",
       "        text-align: right;\n",
       "    }\n",
       "</style>\n",
       "<table border=\"1\" class=\"dataframe\">\n",
       "  <thead>\n",
       "    <tr style=\"text-align: right;\">\n",
       "      <th></th>\n",
       "      <th>f0_</th>\n",
       "    </tr>\n",
       "  </thead>\n",
       "  <tbody>\n",
       "    <tr>\n",
       "      <th>0</th>\n",
       "      <td>1603652</td>\n",
       "    </tr>\n",
       "  </tbody>\n",
       "</table>\n",
       "</div>"
      ],
      "text/plain": [
       "       f0_\n",
       "0  1603652"
      ]
     },
     "execution_count": 32,
     "metadata": {},
     "output_type": "execute_result"
    }
   ],
   "source": [
    "%%bigquery\n",
    "select count(*) from musicbrainz_staging.Artist"
   ]
  },
  {
   "cell_type": "code",
   "execution_count": 28,
   "metadata": {},
   "outputs": [
    {
     "name": "stdout",
     "output_type": "stream",
     "text": [
      "Waiting on bqjob_r401b31cfd15dfbbd_000001706f49195d_1 ... (4s) Current status: DONE   \n",
      "Warnings encountered during job execution:\n",
      "\n",
      "[gs://cs327e_music_data/music_brainz_staging/event] Error while reading data, error message: Error detected while parsing row starting at position: 299049. Error: Data between close double quote (\") and field separator.\n",
      "\n",
      "[gs://cs327e_music_data/music_brainz_staging/event] Error while reading data, error message: Error detected while parsing row starting at position: 312892. Error: Data between close double quote (\") and field separator.\n",
      "\n",
      "[gs://cs327e_music_data/music_brainz_staging/event] Error while reading data, error message: Error detected while parsing row starting at position: 331273. Error: Data between close double quote (\") and field separator.\n",
      "\n",
      "[gs://cs327e_music_data/music_brainz_staging/event] Error while reading data, error message: Error detected while parsing row starting at position: 364014. Error: Data between close double quote (\") and field separator.\n",
      "\n",
      "[gs://cs327e_music_data/music_brainz_staging/event] Error while reading data, error message: Error detected while parsing row starting at position: 579067. Error: Data between close double quote (\") and field separator.\n",
      "\n"
     ]
    }
   ],
   "source": [
    "!bq --location=US load --autodetect --max_bad_records 500\\\n",
    "--source_format=CSV {dataset_id}.Event \\\n",
    "'gs://cs327e_music_data/music_brainz_staging/event'"
   ]
  },
  {
   "cell_type": "code",
   "execution_count": 31,
   "metadata": {},
   "outputs": [
    {
     "data": {
      "text/html": [
       "<div>\n",
       "<style scoped>\n",
       "    .dataframe tbody tr th:only-of-type {\n",
       "        vertical-align: middle;\n",
       "    }\n",
       "\n",
       "    .dataframe tbody tr th {\n",
       "        vertical-align: top;\n",
       "    }\n",
       "\n",
       "    .dataframe thead th {\n",
       "        text-align: right;\n",
       "    }\n",
       "</style>\n",
       "<table border=\"1\" class=\"dataframe\">\n",
       "  <thead>\n",
       "    <tr style=\"text-align: right;\">\n",
       "      <th></th>\n",
       "      <th>f0_</th>\n",
       "    </tr>\n",
       "  </thead>\n",
       "  <tbody>\n",
       "    <tr>\n",
       "      <th>0</th>\n",
       "      <td>40677</td>\n",
       "    </tr>\n",
       "  </tbody>\n",
       "</table>\n",
       "</div>"
      ],
      "text/plain": [
       "     f0_\n",
       "0  40677"
      ]
     },
     "execution_count": 31,
     "metadata": {},
     "output_type": "execute_result"
    }
   ],
   "source": [
    "%%bigquery\n",
    "select count(*) from musicbrainz_staging.Event"
   ]
  },
  {
   "cell_type": "code",
   "execution_count": 33,
   "metadata": {},
   "outputs": [
    {
     "name": "stdout",
     "output_type": "stream",
     "text": [
      "Waiting on bqjob_r386a69bd5f434ae7_000001706f4bc031_1 ... (5s) Current status: DONE   \n",
      "Warnings encountered during job execution:\n",
      "\n",
      "[gs://cs327e_music_data/music_brainz_staging/label] Error while reading data, error message: Error detected while parsing row starting at position: 2893697. Error: Data between close double quote (\") and field separator.\n",
      "\n",
      "[gs://cs327e_music_data/music_brainz_staging/label] Error while reading data, error message: Error detected while parsing row starting at position: 3089125. Error: Data between close double quote (\") and field separator.\n",
      "\n",
      "[gs://cs327e_music_data/music_brainz_staging/label] Error while reading data, error message: Error detected while parsing row starting at position: 4317089. Error: Data between close double quote (\") and field separator.\n",
      "\n",
      "[gs://cs327e_music_data/music_brainz_staging/label] Error while reading data, error message: Error detected while parsing row starting at position: 5798102. Error: Data between close double quote (\") and field separator.\n",
      "\n",
      "[gs://cs327e_music_data/music_brainz_staging/label] Error while reading data, error message: Error detected while parsing row starting at position: 5898029. Error: Data between close double quote (\") and field separator.\n",
      "\n"
     ]
    }
   ],
   "source": [
    "!bq --location=US load --autodetect --max_bad_records 500\\\n",
    "--source_format=CSV {dataset_id}.Label \\\n",
    "'gs://cs327e_music_data/music_brainz_staging/label'"
   ]
  },
  {
   "cell_type": "code",
   "execution_count": 35,
   "metadata": {},
   "outputs": [
    {
     "data": {
      "text/html": [
       "<div>\n",
       "<style scoped>\n",
       "    .dataframe tbody tr th:only-of-type {\n",
       "        vertical-align: middle;\n",
       "    }\n",
       "\n",
       "    .dataframe tbody tr th {\n",
       "        vertical-align: top;\n",
       "    }\n",
       "\n",
       "    .dataframe thead th {\n",
       "        text-align: right;\n",
       "    }\n",
       "</style>\n",
       "<table border=\"1\" class=\"dataframe\">\n",
       "  <thead>\n",
       "    <tr style=\"text-align: right;\">\n",
       "      <th></th>\n",
       "      <th>f0_</th>\n",
       "    </tr>\n",
       "  </thead>\n",
       "  <tbody>\n",
       "    <tr>\n",
       "      <th>0</th>\n",
       "      <td>174332</td>\n",
       "    </tr>\n",
       "  </tbody>\n",
       "</table>\n",
       "</div>"
      ],
      "text/plain": [
       "      f0_\n",
       "0  174332"
      ]
     },
     "execution_count": 35,
     "metadata": {},
     "output_type": "execute_result"
    }
   ],
   "source": [
    "%%bigquery\n",
    "select count(*) from musicbrainz_staging.Label"
   ]
  },
  {
   "cell_type": "code",
   "execution_count": 36,
   "metadata": {},
   "outputs": [
    {
     "name": "stdout",
     "output_type": "stream",
     "text": [
      "Waiting on bqjob_r417e4c7e70a8fa97_000001706f4e2b42_1 ... (3s) Current status: DONE   \n",
      "Warnings encountered during job execution:\n",
      "\n",
      "[gs://cs327e_music_data/music_brainz_staging/place] Error while reading data, error message: Error detected while parsing row starting at position: 222078. Error: Data between close double quote (\") and field separator.\n",
      "\n",
      "[gs://cs327e_music_data/music_brainz_staging/place] Error while reading data, error message: Error detected while parsing row starting at position: 619458. Error: Data between close double quote (\") and field separator.\n",
      "\n",
      "[gs://cs327e_music_data/music_brainz_staging/place] Error while reading data, error message: Error detected while parsing row starting at position: 2565613. Error: Data between close double quote (\") and field separator.\n",
      "\n",
      "[gs://cs327e_music_data/music_brainz_staging/place] Error while reading data, error message: Error detected while parsing row starting at position: 3134165. Error: Data between close double quote (\") and field separator.\n",
      "\n",
      "[gs://cs327e_music_data/music_brainz_staging/place] Error while reading data, error message: Error detected while parsing row starting at position: 3443247. Error: Data between close double quote (\") and field separator.\n",
      "\n"
     ]
    }
   ],
   "source": [
    "!bq --location=US load --autodetect --max_bad_records 500\\\n",
    "--source_format=CSV {dataset_id}.Place \\\n",
    "'gs://cs327e_music_data/music_brainz_staging/place'"
   ]
  },
  {
   "cell_type": "code",
   "execution_count": 37,
   "metadata": {},
   "outputs": [
    {
     "data": {
      "text/html": [
       "<div>\n",
       "<style scoped>\n",
       "    .dataframe tbody tr th:only-of-type {\n",
       "        vertical-align: middle;\n",
       "    }\n",
       "\n",
       "    .dataframe tbody tr th {\n",
       "        vertical-align: top;\n",
       "    }\n",
       "\n",
       "    .dataframe thead th {\n",
       "        text-align: right;\n",
       "    }\n",
       "</style>\n",
       "<table border=\"1\" class=\"dataframe\">\n",
       "  <thead>\n",
       "    <tr style=\"text-align: right;\">\n",
       "      <th></th>\n",
       "      <th>f0_</th>\n",
       "    </tr>\n",
       "  </thead>\n",
       "  <tbody>\n",
       "    <tr>\n",
       "      <th>0</th>\n",
       "      <td>39877</td>\n",
       "    </tr>\n",
       "  </tbody>\n",
       "</table>\n",
       "</div>"
      ],
      "text/plain": [
       "     f0_\n",
       "0  39877"
      ]
     },
     "execution_count": 37,
     "metadata": {},
     "output_type": "execute_result"
    }
   ],
   "source": [
    "%%bigquery\n",
    "select count(*) from musicbrainz_staging.Place"
   ]
  },
  {
   "cell_type": "code",
   "execution_count": 42,
   "metadata": {},
   "outputs": [
    {
     "name": "stdout",
     "output_type": "stream",
     "text": [
      "Waiting on bqjob_r3367e73b05974bb3_000001706f52eb26_1 ... (64s) Current status: DONE   \n",
      "Warnings encountered during job execution:\n",
      "\n",
      "[gs://cs327e_music_data/music_brainz_staging/recording] Error while reading data, error message: Error detected while parsing row starting at position: 262923439. Error: Data between close double quote (\") and field separator.\n",
      "\n",
      "[gs://cs327e_music_data/music_brainz_staging/recording] Error while reading data, error message: Error detected while parsing row starting at position: 263430179. Error: Data between close double quote (\") and field separator.\n",
      "\n",
      "[gs://cs327e_music_data/music_brainz_staging/recording] Error while reading data, error message: Error detected while parsing row starting at position: 263449046. Error: Data between close double quote (\") and field separator.\n",
      "\n",
      "[gs://cs327e_music_data/music_brainz_staging/recording] Error while reading data, error message: Error detected while parsing row starting at position: 264198248. Error: Data between close double quote (\") and field separator.\n",
      "\n",
      "[gs://cs327e_music_data/music_brainz_staging/recording] Error while reading data, error message: Error detected while parsing row starting at position: 264199132. Error: Data between close double quote (\") and field separator.\n",
      "\n"
     ]
    }
   ],
   "source": [
    "!bq --location=US load --autodetect --max_bad_records 100000\\\n",
    "--source_format=CSV {dataset_id}.Recording \\\n",
    "'gs://cs327e_music_data/music_brainz_staging/recording'"
   ]
  },
  {
   "cell_type": "code",
   "execution_count": 43,
   "metadata": {},
   "outputs": [
    {
     "data": {
      "text/html": [
       "<div>\n",
       "<style scoped>\n",
       "    .dataframe tbody tr th:only-of-type {\n",
       "        vertical-align: middle;\n",
       "    }\n",
       "\n",
       "    .dataframe tbody tr th {\n",
       "        vertical-align: top;\n",
       "    }\n",
       "\n",
       "    .dataframe thead th {\n",
       "        text-align: right;\n",
       "    }\n",
       "</style>\n",
       "<table border=\"1\" class=\"dataframe\">\n",
       "  <thead>\n",
       "    <tr style=\"text-align: right;\">\n",
       "      <th></th>\n",
       "      <th>f0_</th>\n",
       "    </tr>\n",
       "  </thead>\n",
       "  <tbody>\n",
       "    <tr>\n",
       "      <th>0</th>\n",
       "      <td>21863041</td>\n",
       "    </tr>\n",
       "  </tbody>\n",
       "</table>\n",
       "</div>"
      ],
      "text/plain": [
       "        f0_\n",
       "0  21863041"
      ]
     },
     "execution_count": 43,
     "metadata": {},
     "output_type": "execute_result"
    }
   ],
   "source": [
    "%%bigquery\n",
    "select count(*) from musicbrainz_staging.Recording"
   ]
  },
  {
   "cell_type": "code",
   "execution_count": 44,
   "metadata": {},
   "outputs": [
    {
     "name": "stdout",
     "output_type": "stream",
     "text": [
      "Waiting on bqjob_r4b91b10f7097bd09_000001706f554a11_1 ... (64s) Current status: DONE   \n",
      "Warnings encountered during job execution:\n",
      "\n",
      "[gs://cs327e_music_data/music_brainz_staging/release] Error while reading data, error message: Error detected while parsing row starting at position: 1275036. Error: Data between close double quote (\") and field separator.\n",
      "\n",
      "[gs://cs327e_music_data/music_brainz_staging/release] Error while reading data, error message: Error detected while parsing row starting at position: 1572553. Error: Data between close double quote (\") and field separator.\n",
      "\n",
      "[gs://cs327e_music_data/music_brainz_staging/release] Error while reading data, error message: Error detected while parsing row starting at position: 2550261. Error: Data between close double quote (\") and field separator.\n",
      "\n",
      "[gs://cs327e_music_data/music_brainz_staging/release] Error while reading data, error message: Error detected while parsing row starting at position: 3379775. Error: Data between close double quote (\") and field separator.\n",
      "\n",
      "[gs://cs327e_music_data/music_brainz_staging/release] Error while reading data, error message: Error detected while parsing row starting at position: 4755540. Error: Data between close double quote (\") and field separator.\n",
      "\n"
     ]
    }
   ],
   "source": [
    "!bq --location=US load --autodetect --max_bad_records 100000\\\n",
    "--source_format=CSV {dataset_id}.Release \\\n",
    "'gs://cs327e_music_data/music_brainz_staging/release'"
   ]
  },
  {
   "cell_type": "code",
   "execution_count": 46,
   "metadata": {},
   "outputs": [
    {
     "data": {
      "text/html": [
       "<div>\n",
       "<style scoped>\n",
       "    .dataframe tbody tr th:only-of-type {\n",
       "        vertical-align: middle;\n",
       "    }\n",
       "\n",
       "    .dataframe tbody tr th {\n",
       "        vertical-align: top;\n",
       "    }\n",
       "\n",
       "    .dataframe thead th {\n",
       "        text-align: right;\n",
       "    }\n",
       "</style>\n",
       "<table border=\"1\" class=\"dataframe\">\n",
       "  <thead>\n",
       "    <tr style=\"text-align: right;\">\n",
       "      <th></th>\n",
       "      <th>f0_</th>\n",
       "    </tr>\n",
       "  </thead>\n",
       "  <tbody>\n",
       "    <tr>\n",
       "      <th>0</th>\n",
       "      <td>2433628</td>\n",
       "    </tr>\n",
       "  </tbody>\n",
       "</table>\n",
       "</div>"
      ],
      "text/plain": [
       "       f0_\n",
       "0  2433628"
      ]
     },
     "execution_count": 46,
     "metadata": {},
     "output_type": "execute_result"
    }
   ],
   "source": [
    "%%bigquery\n",
    "select count(*) from musicbrainz_staging.Release"
   ]
  },
  {
   "cell_type": "code",
   "execution_count": 47,
   "metadata": {},
   "outputs": [
    {
     "name": "stdout",
     "output_type": "stream",
     "text": [
      "Waiting on bqjob_r5d38f2af06f28ba5_000001706f5790ca_1 ... (47s) Current status: DONE   \n",
      "Warnings encountered during job execution:\n",
      "\n",
      "[gs://cs327e_music_data/music_brainz_staging/release_group] Error while reading data, error message: Error detected while parsing row starting at position: 86544. Error: Data between close double quote (\") and field separator.\n",
      "\n",
      "[gs://cs327e_music_data/music_brainz_staging/release_group] Error while reading data, error message: Error detected while parsing row starting at position: 370989. Error: Data between close double quote (\") and field separator.\n",
      "\n",
      "[gs://cs327e_music_data/music_brainz_staging/release_group] Error while reading data, error message: Error detected while parsing row starting at position: 1589442. Error: Data between close double quote (\") and field separator.\n",
      "\n",
      "[gs://cs327e_music_data/music_brainz_staging/release_group] Error while reading data, error message: Error detected while parsing row starting at position: 1989071. Error: Data between close double quote (\") and field separator.\n",
      "\n",
      "[gs://cs327e_music_data/music_brainz_staging/release_group] Error while reading data, error message: Error detected while parsing row starting at position: 2551695. Error: Data between close double quote (\") and field separator.\n",
      "\n"
     ]
    }
   ],
   "source": [
    "!bq --location=US load --autodetect --max_bad_records 100000\\\n",
    "--source_format=CSV {dataset_id}.Release_Group \\\n",
    "'gs://cs327e_music_data/music_brainz_staging/release_group'"
   ]
  },
  {
   "cell_type": "code",
   "execution_count": 49,
   "metadata": {},
   "outputs": [
    {
     "data": {
      "text/html": [
       "<div>\n",
       "<style scoped>\n",
       "    .dataframe tbody tr th:only-of-type {\n",
       "        vertical-align: middle;\n",
       "    }\n",
       "\n",
       "    .dataframe tbody tr th {\n",
       "        vertical-align: top;\n",
       "    }\n",
       "\n",
       "    .dataframe thead th {\n",
       "        text-align: right;\n",
       "    }\n",
       "</style>\n",
       "<table border=\"1\" class=\"dataframe\">\n",
       "  <thead>\n",
       "    <tr style=\"text-align: right;\">\n",
       "      <th></th>\n",
       "      <th>f0_</th>\n",
       "    </tr>\n",
       "  </thead>\n",
       "  <tbody>\n",
       "    <tr>\n",
       "      <th>0</th>\n",
       "      <td>1922519</td>\n",
       "    </tr>\n",
       "  </tbody>\n",
       "</table>\n",
       "</div>"
      ],
      "text/plain": [
       "       f0_\n",
       "0  1922519"
      ]
     },
     "execution_count": 49,
     "metadata": {},
     "output_type": "execute_result"
    }
   ],
   "source": [
    "%%bigquery\n",
    "select count(*) from musicbrainz_staging.Release_Group"
   ]
  },
  {
   "cell_type": "code",
   "execution_count": 52,
   "metadata": {},
   "outputs": [
    {
     "name": "stdout",
     "output_type": "stream",
     "text": [
      "Waiting on bqjob_r2d337c2da6911ce9_000001706f5b8bee_1 ... (64s) Current status: DONE   \n"
     ]
    }
   ],
   "source": [
    "!bq --location=US load --autodetect\\\n",
    "--source_format=CSV {dataset_id}.URL \\\n",
    "'gs://cs327e_music_data/music_brainz_staging/url'"
   ]
  },
  {
   "cell_type": "code",
   "execution_count": 53,
   "metadata": {},
   "outputs": [
    {
     "data": {
      "text/html": [
       "<div>\n",
       "<style scoped>\n",
       "    .dataframe tbody tr th:only-of-type {\n",
       "        vertical-align: middle;\n",
       "    }\n",
       "\n",
       "    .dataframe tbody tr th {\n",
       "        vertical-align: top;\n",
       "    }\n",
       "\n",
       "    .dataframe thead th {\n",
       "        text-align: right;\n",
       "    }\n",
       "</style>\n",
       "<table border=\"1\" class=\"dataframe\">\n",
       "  <thead>\n",
       "    <tr style=\"text-align: right;\">\n",
       "      <th></th>\n",
       "      <th>f0_</th>\n",
       "    </tr>\n",
       "  </thead>\n",
       "  <tbody>\n",
       "    <tr>\n",
       "      <th>0</th>\n",
       "      <td>6373091</td>\n",
       "    </tr>\n",
       "  </tbody>\n",
       "</table>\n",
       "</div>"
      ],
      "text/plain": [
       "       f0_\n",
       "0  6373091"
      ]
     },
     "execution_count": 53,
     "metadata": {},
     "output_type": "execute_result"
    }
   ],
   "source": [
    "%%bigquery\n",
    "select count(*) from musicbrainz_staging.URL"
   ]
  },
  {
   "cell_type": "code",
   "execution_count": 68,
   "metadata": {},
   "outputs": [
    {
     "name": "stdout",
     "output_type": "stream",
     "text": [
      "Waiting on bqjob_r84351f58a2b01ed_000001706f7301f5_1 ... (22s) Current status: DONE   \n",
      "Warnings encountered during job execution:\n",
      "\n",
      "[query] Could not parse '\\\\N' as a timestamp. Required format is YYYY-MM-DD HH:MM[:SS[.SSSSSS]] or YYYY/MM/DD HH:MM[:SS[.SSSSSS]]; Could not parse '\\N' as timestamp for field timestamp_field_6 (position 6) starting at location 81783\n",
      "\n",
      "[gs://cs327e_music_data/music_brainz_staging/work] Error while reading data, error message: Error detected while parsing row starting at position: 212374. Error: Data between close double quote (\") and field separator.\n",
      "\n",
      "[query] Could not parse '\\\\N' as a timestamp. Required format is YYYY-MM-DD HH:MM[:SS[.SSSSSS]] or YYYY/MM/DD HH:MM[:SS[.SSSSSS]]; Could not parse '\\N' as timestamp for field timestamp_field_6 (position 6) starting at location 398485\n",
      "\n",
      "[gs://cs327e_music_data/music_brainz_staging/work] Error while reading data, error message: Error detected while parsing row starting at position: 500617. Error: Data between close double quote (\") and field separator.\n",
      "\n",
      "[query] Could not parse '\\\\N' as a timestamp. Required format is YYYY-MM-DD HH:MM[:SS[.SSSSSS]] or YYYY/MM/DD HH:MM[:SS[.SSSSSS]]; Could not parse '\\N' as timestamp for field timestamp_field_6 (position 6) starting at location 533625\n",
      "\n"
     ]
    }
   ],
   "source": [
    "!bq --location=US load --autodetect --max_bad_records 1000000\\\n",
    "--source_format=CSV {dataset_id}.Work \\\n",
    "'gs://cs327e_music_data/music_brainz_staging/work'"
   ]
  },
  {
   "cell_type": "code",
   "execution_count": 59,
   "metadata": {},
   "outputs": [
    {
     "data": {
      "text/html": [
       "<div>\n",
       "<style scoped>\n",
       "    .dataframe tbody tr th:only-of-type {\n",
       "        vertical-align: middle;\n",
       "    }\n",
       "\n",
       "    .dataframe tbody tr th {\n",
       "        vertical-align: top;\n",
       "    }\n",
       "\n",
       "    .dataframe thead th {\n",
       "        text-align: right;\n",
       "    }\n",
       "</style>\n",
       "<table border=\"1\" class=\"dataframe\">\n",
       "  <thead>\n",
       "    <tr style=\"text-align: right;\">\n",
       "      <th></th>\n",
       "      <th>f0_</th>\n",
       "    </tr>\n",
       "  </thead>\n",
       "  <tbody>\n",
       "    <tr>\n",
       "      <th>0</th>\n",
       "      <td>1165733</td>\n",
       "    </tr>\n",
       "  </tbody>\n",
       "</table>\n",
       "</div>"
      ],
      "text/plain": [
       "       f0_\n",
       "0  1165733"
      ]
     },
     "execution_count": 59,
     "metadata": {},
     "output_type": "execute_result"
    }
   ],
   "source": [
    "%%bigquery\n",
    "select count(*) from musicbrainz_staging.Work"
   ]
  },
  {
   "cell_type": "code",
   "execution_count": null,
   "metadata": {},
   "outputs": [],
   "source": []
  }
 ],
 "metadata": {
  "kernelspec": {
   "display_name": "Python 3",
   "language": "python",
   "name": "python3"
  },
  "language_info": {
   "codemirror_mode": {
    "name": "ipython",
    "version": 3
   },
   "file_extension": ".py",
   "mimetype": "text/x-python",
   "name": "python",
   "nbconvert_exporter": "python",
   "pygments_lexer": "ipython3",
   "version": "3.5.3"
  }
 },
 "nbformat": 4,
 "nbformat_minor": 4
}
