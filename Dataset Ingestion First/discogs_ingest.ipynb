{
 "cells": [
  {
   "cell_type": "markdown",
   "metadata": {},
   "source": [
    "## Ingest the CSV file into Big Query:"
   ]
  },
  {
   "cell_type": "code",
   "execution_count": 1,
   "metadata": {},
   "outputs": [],
   "source": [
    "dataset_id = \"discogs_staging\""
   ]
  },
  {
   "cell_type": "code",
   "execution_count": 2,
   "metadata": {},
   "outputs": [
    {
     "name": "stdout",
     "output_type": "stream",
     "text": [
      "BigQuery error in mk operation: Dataset 'earnest-keep-266820:discogs_staging'\n",
      "already exists.\n"
     ]
    }
   ],
   "source": [
    "!bq --location=US mk --dataset {dataset_id}"
   ]
  },
  {
   "cell_type": "code",
   "execution_count": 8,
   "metadata": {},
   "outputs": [
    {
     "name": "stdout",
     "output_type": "stream",
     "text": [
      "Waiting on bqjob_r2ada6d6ab5c5259a_000001718ad4f7d5_1 ... (65s) Current status: DONE   \n",
      "Warnings encountered during job execution:\n",
      "\n",
      "[gs://cs327e_discogs/final_artist.json] Error while reading data, error message: JSON parsing error in row starting at position 1306886702: Could not convert value to string. Field: Val; Value: 12\n",
      "\n",
      "[gs://cs327e_discogs/final_artist.json] Error while reading data, error message: JSON parsing error in row starting at position 1307860638: Could not convert value to string. Field: Val; Value: 3.141592653589793\n",
      "\n",
      "[gs://cs327e_discogs/final_artist.json] Error while reading data, error message: JSON parsing error in row starting at position 1308142322: Could not convert value to string. Field: Val; Value: 3.141592653589793\n",
      "\n",
      "[gs://cs327e_discogs/final_artist.json] Error while reading data, error message: JSON parsing error in row starting at position 1308249490: Could not convert value to string. Field: Val; Value: 3.141592653589793\n",
      "\n",
      "[gs://cs327e_discogs/final_artist.json] Error while reading data, error message: JSON parsing error in row starting at position 1308979376: Could not convert value to string. Field: Val; Value: 42\n",
      "\n"
     ]
    }
   ],
   "source": [
    "!bq --location=US load --autodetect --max_bad_records 10000 --source_format=NEWLINE_DELIMITED_JSON \\\n",
    "{dataset_id}.Artist \\\n",
    "'gs://cs327e_discogs/final_artist.json'"
   ]
  },
  {
   "cell_type": "code",
   "execution_count": 1,
   "metadata": {},
   "outputs": [
    {
     "data": {
      "text/html": [
       "<div>\n",
       "<style scoped>\n",
       "    .dataframe tbody tr th:only-of-type {\n",
       "        vertical-align: middle;\n",
       "    }\n",
       "\n",
       "    .dataframe tbody tr th {\n",
       "        vertical-align: top;\n",
       "    }\n",
       "\n",
       "    .dataframe thead th {\n",
       "        text-align: right;\n",
       "    }\n",
       "</style>\n",
       "<table border=\"1\" class=\"dataframe\">\n",
       "  <thead>\n",
       "    <tr style=\"text-align: right;\">\n",
       "      <th></th>\n",
       "      <th>f0_</th>\n",
       "    </tr>\n",
       "  </thead>\n",
       "  <tbody>\n",
       "    <tr>\n",
       "      <th>0</th>\n",
       "      <td>6789773</td>\n",
       "    </tr>\n",
       "  </tbody>\n",
       "</table>\n",
       "</div>"
      ],
      "text/plain": [
       "       f0_\n",
       "0  6789773"
      ]
     },
     "execution_count": 1,
     "metadata": {},
     "output_type": "execute_result"
    }
   ],
   "source": [
    "%%bigquery\n",
    "select count(*) from discogs_staging.Artist"
   ]
  },
  {
   "cell_type": "code",
   "execution_count": 1,
   "metadata": {},
   "outputs": [
    {
     "data": {
      "text/html": [
       "<div>\n",
       "<style scoped>\n",
       "    .dataframe tbody tr th:only-of-type {\n",
       "        vertical-align: middle;\n",
       "    }\n",
       "\n",
       "    .dataframe tbody tr th {\n",
       "        vertical-align: top;\n",
       "    }\n",
       "\n",
       "    .dataframe thead th {\n",
       "        text-align: right;\n",
       "    }\n",
       "</style>\n",
       "<table border=\"1\" class=\"dataframe\">\n",
       "  <thead>\n",
       "    <tr style=\"text-align: right;\">\n",
       "      <th></th>\n",
       "      <th>groups</th>\n",
       "      <th>data_quality</th>\n",
       "      <th>urls</th>\n",
       "      <th>realname</th>\n",
       "      <th>name</th>\n",
       "      <th>aliases</th>\n",
       "      <th>profile</th>\n",
       "      <th>id</th>\n",
       "      <th>members</th>\n",
       "      <th>namevariations</th>\n",
       "      <th>images</th>\n",
       "    </tr>\n",
       "  </thead>\n",
       "  <tbody>\n",
       "    <tr>\n",
       "      <th>0</th>\n",
       "      <td>None</td>\n",
       "      <td>{'Val': 'Complete and Correct'}</td>\n",
       "      <td>{'url': [{'Val': 'http://www.facebook.com/enie...</td>\n",
       "      <td>{'Val': 'Sandra Urbančíková'}</td>\n",
       "      <td>{'Val': 'Eniesa'}</td>\n",
       "      <td>{'name': [{'Val': 'Sandra Urbančíková', 'Zid':...</td>\n",
       "      <td>{'Val': 'Slovak vocalist.'}</td>\n",
       "      <td>{'Val': 5121860}</td>\n",
       "      <td>None</td>\n",
       "      <td>None</td>\n",
       "      <td>{'image': [{'Zwidth': 600, 'Zheight': 715, 'Zu...</td>\n",
       "    </tr>\n",
       "    <tr>\n",
       "      <th>1</th>\n",
       "      <td>None</td>\n",
       "      <td>{'Val': 'Needs Minor Changes'}</td>\n",
       "      <td>{'url': [{'Val': 'http://www.anexartisi.gr/abo...</td>\n",
       "      <td>None</td>\n",
       "      <td>{'Val': 'Abolish Authority'}</td>\n",
       "      <td>None</td>\n",
       "      <td>{'Val': 'Η μπάντα σχηματίστηκε τον ον Ιούλιο τ...</td>\n",
       "      <td>{'Val': 2673594}</td>\n",
       "      <td>{'id': [{'Val': 424836}, {'Val': 689921}, {'Va...</td>\n",
       "      <td>None</td>\n",
       "      <td>{'image': [{'Zwidth': 356, 'Zheight': 280, 'Zu...</td>\n",
       "    </tr>\n",
       "    <tr>\n",
       "      <th>2</th>\n",
       "      <td>None</td>\n",
       "      <td>{'Val': 'Complete and Correct'}</td>\n",
       "      <td>None</td>\n",
       "      <td>None</td>\n",
       "      <td>{'Val': 'Pet Show Noise'}</td>\n",
       "      <td>None</td>\n",
       "      <td>{'Val': 'PE / Depressive / Black Noise project...</td>\n",
       "      <td>{'Val': 1704485}</td>\n",
       "      <td>{'id': [{'Val': 2133891}], 'name': [{'Val': 'R...</td>\n",
       "      <td>None</td>\n",
       "      <td>{'image': [{'Zwidth': 311, 'Zheight': 186, 'Zu...</td>\n",
       "    </tr>\n",
       "  </tbody>\n",
       "</table>\n",
       "</div>"
      ],
      "text/plain": [
       "  groups                     data_quality  \\\n",
       "0   None  {'Val': 'Complete and Correct'}   \n",
       "1   None   {'Val': 'Needs Minor Changes'}   \n",
       "2   None  {'Val': 'Complete and Correct'}   \n",
       "\n",
       "                                                urls  \\\n",
       "0  {'url': [{'Val': 'http://www.facebook.com/enie...   \n",
       "1  {'url': [{'Val': 'http://www.anexartisi.gr/abo...   \n",
       "2                                               None   \n",
       "\n",
       "                        realname                          name  \\\n",
       "0  {'Val': 'Sandra Urbančíková'}             {'Val': 'Eniesa'}   \n",
       "1                           None  {'Val': 'Abolish Authority'}   \n",
       "2                           None     {'Val': 'Pet Show Noise'}   \n",
       "\n",
       "                                             aliases  \\\n",
       "0  {'name': [{'Val': 'Sandra Urbančíková', 'Zid':...   \n",
       "1                                               None   \n",
       "2                                               None   \n",
       "\n",
       "                                             profile                id  \\\n",
       "0                        {'Val': 'Slovak vocalist.'}  {'Val': 5121860}   \n",
       "1  {'Val': 'Η μπάντα σχηματίστηκε τον ον Ιούλιο τ...  {'Val': 2673594}   \n",
       "2  {'Val': 'PE / Depressive / Black Noise project...  {'Val': 1704485}   \n",
       "\n",
       "                                             members namevariations  \\\n",
       "0                                               None           None   \n",
       "1  {'id': [{'Val': 424836}, {'Val': 689921}, {'Va...           None   \n",
       "2  {'id': [{'Val': 2133891}], 'name': [{'Val': 'R...           None   \n",
       "\n",
       "                                              images  \n",
       "0  {'image': [{'Zwidth': 600, 'Zheight': 715, 'Zu...  \n",
       "1  {'image': [{'Zwidth': 356, 'Zheight': 280, 'Zu...  \n",
       "2  {'image': [{'Zwidth': 311, 'Zheight': 186, 'Zu...  "
      ]
     },
     "execution_count": 1,
     "metadata": {},
     "output_type": "execute_result"
    }
   ],
   "source": [
    "%%bigquery\n",
    "select * from discogs_staging.Artist limit 3"
   ]
  },
  {
   "cell_type": "code",
   "execution_count": 3,
   "metadata": {},
   "outputs": [
    {
     "name": "stdout",
     "output_type": "stream",
     "text": [
      "Waiting on bqjob_r232d50ab00ae62a4_000001718b63846d_1 ... (34s) Current status: DONE   \n",
      "Warnings encountered during job execution:\n",
      "\n",
      "[gs://cs327e_discogs/labels_final.json] Error while reading data, error message: JSON parsing error in row starting at position 37743: Could not convert value to string. Field: Val; Value: 6277\n",
      "\n",
      "[gs://cs327e_discogs/labels_final.json] Error while reading data, error message: JSON parsing error in row starting at position 90979: Could not convert value to string. Field: Val; Value: 33\n",
      "\n",
      "[gs://cs327e_discogs/labels_final.json] Error while reading data, error message: JSON parsing error in row starting at position 258367: Could not convert value to string. Field: Val; Value: 130701\n",
      "\n",
      "[gs://cs327e_discogs/labels_final.json] Error while reading data, error message: JSON parsing error in row starting at position 449920: Could not convert value to string. Field: Val; Value: 1210\n",
      "\n",
      "[gs://cs327e_discogs/labels_final.json] Error while reading data, error message: JSON parsing error in row starting at position 485100: Could not convert value to string. Field: Val; Value: 2001\n",
      "\n"
     ]
    }
   ],
   "source": [
    "!bq --location=US load --autodetect --max_bad_records 10000 --source_format=NEWLINE_DELIMITED_JSON \\\n",
    "{dataset_id}.Label \\\n",
    "'gs://cs327e_discogs/labels_final.json'"
   ]
  },
  {
   "cell_type": "code",
   "execution_count": 2,
   "metadata": {},
   "outputs": [
    {
     "data": {
      "text/html": [
       "<div>\n",
       "<style scoped>\n",
       "    .dataframe tbody tr th:only-of-type {\n",
       "        vertical-align: middle;\n",
       "    }\n",
       "\n",
       "    .dataframe tbody tr th {\n",
       "        vertical-align: top;\n",
       "    }\n",
       "\n",
       "    .dataframe thead th {\n",
       "        text-align: right;\n",
       "    }\n",
       "</style>\n",
       "<table border=\"1\" class=\"dataframe\">\n",
       "  <thead>\n",
       "    <tr style=\"text-align: right;\">\n",
       "      <th></th>\n",
       "      <th>f0_</th>\n",
       "    </tr>\n",
       "  </thead>\n",
       "  <tbody>\n",
       "    <tr>\n",
       "      <th>0</th>\n",
       "      <td>1506930</td>\n",
       "    </tr>\n",
       "  </tbody>\n",
       "</table>\n",
       "</div>"
      ],
      "text/plain": [
       "       f0_\n",
       "0  1506930"
      ]
     },
     "execution_count": 2,
     "metadata": {},
     "output_type": "execute_result"
    }
   ],
   "source": [
    "%%bigquery\n",
    "select count(*) from discogs_staging.Label"
   ]
  },
  {
   "cell_type": "code",
   "execution_count": 2,
   "metadata": {},
   "outputs": [
    {
     "data": {
      "text/html": [
       "<div>\n",
       "<style scoped>\n",
       "    .dataframe tbody tr th:only-of-type {\n",
       "        vertical-align: middle;\n",
       "    }\n",
       "\n",
       "    .dataframe tbody tr th {\n",
       "        vertical-align: top;\n",
       "    }\n",
       "\n",
       "    .dataframe thead th {\n",
       "        text-align: right;\n",
       "    }\n",
       "</style>\n",
       "<table border=\"1\" class=\"dataframe\">\n",
       "  <thead>\n",
       "    <tr style=\"text-align: right;\">\n",
       "      <th></th>\n",
       "      <th>data_quality</th>\n",
       "      <th>id</th>\n",
       "      <th>contactinfo</th>\n",
       "      <th>parentLabel</th>\n",
       "      <th>urls</th>\n",
       "      <th>name</th>\n",
       "      <th>sublabels</th>\n",
       "      <th>profile</th>\n",
       "      <th>images</th>\n",
       "    </tr>\n",
       "  </thead>\n",
       "  <tbody>\n",
       "    <tr>\n",
       "      <th>0</th>\n",
       "      <td>{'Val': 'Complete and Correct'}</td>\n",
       "      <td>{'Val': 640}</td>\n",
       "      <td>{'Val': 'musicZretroactiverecords.us'}</td>\n",
       "      <td>None</td>\n",
       "      <td>{'url': [{'Val': 'http://www.retroactiverecord...</td>\n",
       "      <td>{'Val': 'Retroactive'}</td>\n",
       "      <td>None</td>\n",
       "      <td>{'Val': 'A DETROIT label founded in 1990 by [a...</td>\n",
       "      <td>{'image': [{'Zwidth': 150, 'Zheight': 184, 'Zu...</td>\n",
       "    </tr>\n",
       "    <tr>\n",
       "      <th>1</th>\n",
       "      <td>{'Val': 'Complete and Correct'}</td>\n",
       "      <td>{'Val': 1096}</td>\n",
       "      <td>{'Val': 'Ant-Zen\r\n",
       "p.o. box 1257\r\n",
       "93135 Lappers...</td>\n",
       "      <td>None</td>\n",
       "      <td>{'url': [{'Val': 'http://www.ant-zen.com/'}, {...</td>\n",
       "      <td>{'Val': 'Ant-Zen'}</td>\n",
       "      <td>{'label': [{'Val': 'Bazooka Joe', 'Zid': 13928...</td>\n",
       "      <td>{'Val': 'Full name: Ant-Zen audio &amp; visual art...</td>\n",
       "      <td>{'image': [{'Zwidth': 170, 'Zheight': 127, 'Zu...</td>\n",
       "    </tr>\n",
       "    <tr>\n",
       "      <th>2</th>\n",
       "      <td>{'Val': 'Complete and Correct'}</td>\n",
       "      <td>{'Val': 3295}</td>\n",
       "      <td>{'Val': 'Taaach!\r\n",
       "Edition Chrome\r\n",
       "Postfach 10 ...</td>\n",
       "      <td>None</td>\n",
       "      <td>None</td>\n",
       "      <td>{'Val': 'Taaach! Recordings'}</td>\n",
       "      <td>{'label': [{'Val': 'Edition Taaach!', 'Zid': 7...</td>\n",
       "      <td>{'Val': 'German Trance Label\r\n",
       "Distributed by I...</td>\n",
       "      <td>{'image': [{'Zwidth': 158, 'Zheight': 55, 'Zur...</td>\n",
       "    </tr>\n",
       "  </tbody>\n",
       "</table>\n",
       "</div>"
      ],
      "text/plain": [
       "                      data_quality             id  \\\n",
       "0  {'Val': 'Complete and Correct'}   {'Val': 640}   \n",
       "1  {'Val': 'Complete and Correct'}  {'Val': 1096}   \n",
       "2  {'Val': 'Complete and Correct'}  {'Val': 3295}   \n",
       "\n",
       "                                         contactinfo parentLabel  \\\n",
       "0             {'Val': 'musicZretroactiverecords.us'}        None   \n",
       "1  {'Val': 'Ant-Zen\n",
       "p.o. box 1257\n",
       "93135 Lappers...        None   \n",
       "2  {'Val': 'Taaach!\n",
       "Edition Chrome\n",
       "Postfach 10 ...        None   \n",
       "\n",
       "                                                urls  \\\n",
       "0  {'url': [{'Val': 'http://www.retroactiverecord...   \n",
       "1  {'url': [{'Val': 'http://www.ant-zen.com/'}, {...   \n",
       "2                                               None   \n",
       "\n",
       "                            name  \\\n",
       "0         {'Val': 'Retroactive'}   \n",
       "1             {'Val': 'Ant-Zen'}   \n",
       "2  {'Val': 'Taaach! Recordings'}   \n",
       "\n",
       "                                           sublabels  \\\n",
       "0                                               None   \n",
       "1  {'label': [{'Val': 'Bazooka Joe', 'Zid': 13928...   \n",
       "2  {'label': [{'Val': 'Edition Taaach!', 'Zid': 7...   \n",
       "\n",
       "                                             profile  \\\n",
       "0  {'Val': 'A DETROIT label founded in 1990 by [a...   \n",
       "1  {'Val': 'Full name: Ant-Zen audio & visual art...   \n",
       "2  {'Val': 'German Trance Label\n",
       "Distributed by I...   \n",
       "\n",
       "                                              images  \n",
       "0  {'image': [{'Zwidth': 150, 'Zheight': 184, 'Zu...  \n",
       "1  {'image': [{'Zwidth': 170, 'Zheight': 127, 'Zu...  \n",
       "2  {'image': [{'Zwidth': 158, 'Zheight': 55, 'Zur...  "
      ]
     },
     "execution_count": 2,
     "metadata": {},
     "output_type": "execute_result"
    }
   ],
   "source": [
    "%%bigquery\n",
    "select * from discogs_staging.Label limit 3"
   ]
  },
  {
   "cell_type": "markdown",
   "metadata": {},
   "source": [
    "### Before creating the modeled tables, we will remove rows which have been tagged as 'entirely incorrect' in the database."
   ]
  },
  {
   "cell_type": "code",
   "execution_count": 3,
   "metadata": {},
   "outputs": [
    {
     "data": {
      "text/html": [
       "<div>\n",
       "<style scoped>\n",
       "    .dataframe tbody tr th:only-of-type {\n",
       "        vertical-align: middle;\n",
       "    }\n",
       "\n",
       "    .dataframe tbody tr th {\n",
       "        vertical-align: top;\n",
       "    }\n",
       "\n",
       "    .dataframe thead th {\n",
       "        text-align: right;\n",
       "    }\n",
       "</style>\n",
       "<table border=\"1\" class=\"dataframe\">\n",
       "  <thead>\n",
       "    <tr style=\"text-align: right;\">\n",
       "      <th></th>\n",
       "    </tr>\n",
       "  </thead>\n",
       "  <tbody>\n",
       "  </tbody>\n",
       "</table>\n",
       "</div>"
      ],
      "text/plain": [
       "Empty DataFrame\n",
       "Columns: []\n",
       "Index: []"
      ]
     },
     "execution_count": 3,
     "metadata": {},
     "output_type": "execute_result"
    }
   ],
   "source": [
    "%%bigquery\n",
    "create table discogs_staging.Artist_Clean as\n",
    "select * from discogs_staging.Artist where data_quality.val <> 'Entirely Incorrect' or data_quality.val is null"
   ]
  },
  {
   "cell_type": "code",
   "execution_count": 4,
   "metadata": {},
   "outputs": [
    {
     "data": {
      "text/html": [
       "<div>\n",
       "<style scoped>\n",
       "    .dataframe tbody tr th:only-of-type {\n",
       "        vertical-align: middle;\n",
       "    }\n",
       "\n",
       "    .dataframe tbody tr th {\n",
       "        vertical-align: top;\n",
       "    }\n",
       "\n",
       "    .dataframe thead th {\n",
       "        text-align: right;\n",
       "    }\n",
       "</style>\n",
       "<table border=\"1\" class=\"dataframe\">\n",
       "  <thead>\n",
       "    <tr style=\"text-align: right;\">\n",
       "      <th></th>\n",
       "    </tr>\n",
       "  </thead>\n",
       "  <tbody>\n",
       "  </tbody>\n",
       "</table>\n",
       "</div>"
      ],
      "text/plain": [
       "Empty DataFrame\n",
       "Columns: []\n",
       "Index: []"
      ]
     },
     "execution_count": 4,
     "metadata": {},
     "output_type": "execute_result"
    }
   ],
   "source": [
    "%%bigquery\n",
    "create table discogs_staging.Label_Clean as\n",
    "select * from discogs_staging.Label where data_quality.val <> 'Entirely Incorrect' or data_quality.val is null"
   ]
  },
  {
   "cell_type": "code",
   "execution_count": null,
   "metadata": {},
   "outputs": [],
   "source": []
  }
 ],
 "metadata": {
  "kernelspec": {
   "display_name": "Python 3",
   "language": "python",
   "name": "python3"
  },
  "language_info": {
   "codemirror_mode": {
    "name": "ipython",
    "version": 3
   },
   "file_extension": ".py",
   "mimetype": "text/x-python",
   "name": "python",
   "nbconvert_exporter": "python",
   "pygments_lexer": "ipython3",
   "version": "3.5.3"
  }
 },
 "nbformat": 4,
 "nbformat_minor": 4
}
