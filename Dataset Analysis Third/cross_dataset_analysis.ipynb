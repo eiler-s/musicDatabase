{
 "cells": [
  {
   "cell_type": "markdown",
   "metadata": {},
   "source": [
    "### Milestone 10"
   ]
  },
  {
   "cell_type": "markdown",
   "metadata": {},
   "source": [
    "The first query will show an overlap of the artists that are present in both datasets. This will be particularly useful as a view to quickly query the artists in both datasets. Musicbrainz stores both individual artists and bands in one table (Artist_Beam_DF) while discogs has separate entities for bands and individual artists. This view will enable easy querying of both datasets without multiple joins."
   ]
  },
  {
   "cell_type": "code",
   "execution_count": 17,
   "metadata": {},
   "outputs": [
    {
     "data": {
      "text/html": [
       "<div>\n",
       "<style scoped>\n",
       "    .dataframe tbody tr th:only-of-type {\n",
       "        vertical-align: middle;\n",
       "    }\n",
       "\n",
       "    .dataframe tbody tr th {\n",
       "        vertical-align: top;\n",
       "    }\n",
       "\n",
       "    .dataframe thead th {\n",
       "        text-align: right;\n",
       "    }\n",
       "</style>\n",
       "<table border=\"1\" class=\"dataframe\">\n",
       "  <thead>\n",
       "    <tr style=\"text-align: right;\">\n",
       "      <th></th>\n",
       "      <th>discogs_name</th>\n",
       "    </tr>\n",
       "  </thead>\n",
       "  <tbody>\n",
       "    <tr>\n",
       "      <th>0</th>\n",
       "      <td>Denise Karen Dyson</td>\n",
       "    </tr>\n",
       "    <tr>\n",
       "      <th>1</th>\n",
       "      <td>Tim Costello</td>\n",
       "    </tr>\n",
       "    <tr>\n",
       "      <th>2</th>\n",
       "      <td>Wayne Rogers</td>\n",
       "    </tr>\n",
       "    <tr>\n",
       "      <th>3</th>\n",
       "      <td>Sean Armstrong</td>\n",
       "    </tr>\n",
       "    <tr>\n",
       "      <th>4</th>\n",
       "      <td>Terre Thaemlitz</td>\n",
       "    </tr>\n",
       "    <tr>\n",
       "      <th>5</th>\n",
       "      <td>David Brown</td>\n",
       "    </tr>\n",
       "    <tr>\n",
       "      <th>6</th>\n",
       "      <td>Felix</td>\n",
       "    </tr>\n",
       "    <tr>\n",
       "      <th>7</th>\n",
       "      <td>Simo Soo</td>\n",
       "    </tr>\n",
       "    <tr>\n",
       "      <th>8</th>\n",
       "      <td>Michael Phillips</td>\n",
       "    </tr>\n",
       "    <tr>\n",
       "      <th>9</th>\n",
       "      <td>Liam Jason</td>\n",
       "    </tr>\n",
       "  </tbody>\n",
       "</table>\n",
       "</div>"
      ],
      "text/plain": [
       "         discogs_name\n",
       "0  Denise Karen Dyson\n",
       "1        Tim Costello\n",
       "2        Wayne Rogers\n",
       "3      Sean Armstrong\n",
       "4     Terre Thaemlitz\n",
       "5         David Brown\n",
       "6               Felix\n",
       "7            Simo Soo\n",
       "8    Michael Phillips\n",
       "9          Liam Jason"
      ]
     },
     "execution_count": 17,
     "metadata": {},
     "output_type": "execute_result"
    }
   ],
   "source": [
    "%%bigquery\n",
    "select distinct d.name discogs_name from discogs_modeled.Artist d\n",
    "join musicbrainz_modeled.Artist_Beam_DF m \n",
    "on m.artist_name = d.name or m.sort_name = d.name\n",
    "group by discogs_name\n",
    "union all\n",
    "select distinct b.name discogs_name from discogs_modeled.Band b\n",
    "join musicbrainz_modeled.Artist_Beam_DF a \n",
    "on a.artist_name = b.name or m.sort_name = b.name\n",
    "limit 10"
   ]
  },
  {
   "cell_type": "markdown",
   "metadata": {},
   "source": [
    "For vizualization purposes, we would like to quantify the amount of data present in each of the datasets and how much data they share. This view does this, and the approach is explained in the third query."
   ]
  },
  {
   "cell_type": "code",
   "execution_count": 1,
   "metadata": {},
   "outputs": [
    {
     "data": {
      "text/html": [
       "<div>\n",
       "<style scoped>\n",
       "    .dataframe tbody tr th:only-of-type {\n",
       "        vertical-align: middle;\n",
       "    }\n",
       "\n",
       "    .dataframe tbody tr th {\n",
       "        vertical-align: top;\n",
       "    }\n",
       "\n",
       "    .dataframe thead th {\n",
       "        text-align: right;\n",
       "    }\n",
       "</style>\n",
       "<table border=\"1\" class=\"dataframe\">\n",
       "  <thead>\n",
       "    <tr style=\"text-align: right;\">\n",
       "      <th></th>\n",
       "    </tr>\n",
       "  </thead>\n",
       "  <tbody>\n",
       "  </tbody>\n",
       "</table>\n",
       "</div>"
      ],
      "text/plain": [
       "Empty DataFrame\n",
       "Columns: []\n",
       "Index: []"
      ]
     },
     "execution_count": 1,
     "metadata": {},
     "output_type": "execute_result"
    }
   ],
   "source": [
    "%%bigquery\n",
    "create or replace view reporting.v_classified_artists as \n",
    "(\n",
    "    select mA.artist_name as artist_name, \"MusicBrainz Artists Only\" as domain,\n",
    "    from `earnest-keep-266820.musicbrainz_modeled.Artist_Beam_DF` as mA\n",
    "    where mA.artist_id not in\n",
    "    (\n",
    "      select a.artist_id as mID,\n",
    "      from `earnest-keep-266820.discogs_modeled.Artist` as d\n",
    "      join `earnest-keep-266820.musicbrainz_modeled.Artist_Beam_DF` as a\n",
    "      on d.name = a.artist_name\n",
    "    )\n",
    "    group by artist_name\n",
    "\n",
    "    union all\n",
    "\n",
    "    select dA.name as artist_name, \"Discogs Artists Only\" as domain,\n",
    "    from `earnest-keep-266820.discogs_modeled.Artist` as dA\n",
    "    where dA.id not in\n",
    "    (\n",
    "      select d.id as dID,\n",
    "      from `earnest-keep-266820.discogs_modeled.Artist` as d\n",
    "      join `earnest-keep-266820.musicbrainz_modeled.Artist_Beam_DF` as m\n",
    "      on d.name = m.artist_name\n",
    "    )\n",
    "    group by artist_name\n",
    "\n",
    "    union all\n",
    "\n",
    "    select d.name as artist_name, \"Shared Artists\" as domain,\n",
    "    from `earnest-keep-266820.discogs_modeled.Artist` as d\n",
    "    join `earnest-keep-266820.musicbrainz_modeled.Artist_Beam_DF` as m\n",
    "    on d.name = m.artist_name\n",
    "    group by artist_name\n",
    ")"
   ]
  },
  {
   "cell_type": "markdown",
   "metadata": {},
   "source": [
    "The second query will correlate artists and labels with URLs in the musicbrainz dataset. While both discogs and musicbrainz have information about URLs, only the discogs dataset ties the URL to the artist or label it is referencing. With information from the discogs dataset we can enrich the musicbrainz URL table."
   ]
  },
  {
   "cell_type": "code",
   "execution_count": 10,
   "metadata": {},
   "outputs": [
    {
     "data": {
      "text/html": [
       "<div>\n",
       "<style scoped>\n",
       "    .dataframe tbody tr th:only-of-type {\n",
       "        vertical-align: middle;\n",
       "    }\n",
       "\n",
       "    .dataframe tbody tr th {\n",
       "        vertical-align: top;\n",
       "    }\n",
       "\n",
       "    .dataframe thead th {\n",
       "        text-align: right;\n",
       "    }\n",
       "</style>\n",
       "<table border=\"1\" class=\"dataframe\">\n",
       "  <thead>\n",
       "    <tr style=\"text-align: right;\">\n",
       "      <th></th>\n",
       "      <th>url</th>\n",
       "      <th>musicbrainz_id</th>\n",
       "      <th>discogs_id</th>\n",
       "      <th>url_type</th>\n",
       "    </tr>\n",
       "  </thead>\n",
       "  <tbody>\n",
       "    <tr>\n",
       "      <th>0</th>\n",
       "      <td>http://www.seasonsrecordings.com/</td>\n",
       "      <td>187876</td>\n",
       "      <td>2</td>\n",
       "      <td>Label</td>\n",
       "    </tr>\n",
       "    <tr>\n",
       "      <th>1</th>\n",
       "      <td>http://www.whosampled.com/Josh-Wink/</td>\n",
       "      <td>3323931</td>\n",
       "      <td>3</td>\n",
       "      <td>Artist</td>\n",
       "    </tr>\n",
       "    <tr>\n",
       "      <th>2</th>\n",
       "      <td>http://www.joshwink.com/</td>\n",
       "      <td>8036</td>\n",
       "      <td>3</td>\n",
       "      <td>Artist</td>\n",
       "    </tr>\n",
       "    <tr>\n",
       "      <th>3</th>\n",
       "      <td>http://music.hyperreal.org/labels/rather_inter...</td>\n",
       "      <td>187883</td>\n",
       "      <td>8</td>\n",
       "      <td>Label</td>\n",
       "    </tr>\n",
       "    <tr>\n",
       "      <th>4</th>\n",
       "      <td>http://www.residentadvisor.net/dj/christiansmith</td>\n",
       "      <td>3885337</td>\n",
       "      <td>16</td>\n",
       "      <td>Artist</td>\n",
       "    </tr>\n",
       "    <tr>\n",
       "      <th>5</th>\n",
       "      <td>http://www.somarecords.com/</td>\n",
       "      <td>187864</td>\n",
       "      <td>18</td>\n",
       "      <td>Label</td>\n",
       "    </tr>\n",
       "    <tr>\n",
       "      <th>6</th>\n",
       "      <td>http://music.hyperreal.org/artists/tetsu/</td>\n",
       "      <td>4245821</td>\n",
       "      <td>25</td>\n",
       "      <td>Artist</td>\n",
       "    </tr>\n",
       "    <tr>\n",
       "      <th>7</th>\n",
       "      <td>http://www.groovecollective.com/</td>\n",
       "      <td>23572</td>\n",
       "      <td>30</td>\n",
       "      <td>Artist</td>\n",
       "    </tr>\n",
       "    <tr>\n",
       "      <th>8</th>\n",
       "      <td>http://music.hyperreal.org/labels/fax/</td>\n",
       "      <td>188025</td>\n",
       "      <td>60</td>\n",
       "      <td>Label</td>\n",
       "    </tr>\n",
       "    <tr>\n",
       "      <th>9</th>\n",
       "      <td>http://www.instinctrecords.com/</td>\n",
       "      <td>190317</td>\n",
       "      <td>63</td>\n",
       "      <td>Label</td>\n",
       "    </tr>\n",
       "  </tbody>\n",
       "</table>\n",
       "</div>"
      ],
      "text/plain": [
       "                                                 url  musicbrainz_id  \\\n",
       "0                  http://www.seasonsrecordings.com/          187876   \n",
       "1               http://www.whosampled.com/Josh-Wink/         3323931   \n",
       "2                           http://www.joshwink.com/            8036   \n",
       "3  http://music.hyperreal.org/labels/rather_inter...          187883   \n",
       "4   http://www.residentadvisor.net/dj/christiansmith         3885337   \n",
       "5                        http://www.somarecords.com/          187864   \n",
       "6          http://music.hyperreal.org/artists/tetsu/         4245821   \n",
       "7                   http://www.groovecollective.com/           23572   \n",
       "8             http://music.hyperreal.org/labels/fax/          188025   \n",
       "9                    http://www.instinctrecords.com/          190317   \n",
       "\n",
       "   discogs_id url_type  \n",
       "0           2    Label  \n",
       "1           3   Artist  \n",
       "2           3   Artist  \n",
       "3           8    Label  \n",
       "4          16   Artist  \n",
       "5          18    Label  \n",
       "6          25   Artist  \n",
       "7          30   Artist  \n",
       "8          60    Label  \n",
       "9          63    Label  "
      ]
     },
     "execution_count": 10,
     "metadata": {},
     "output_type": "execute_result"
    }
   ],
   "source": [
    "%%bigquery\n",
    "select d.url as url, m.url_id as musicbrainz_id, d.artist_id as discogs_id, \"Artist\" as url_type\n",
    "from discogs_modeled.Artist_URL d\n",
    "join musicbrainz_modeled.URL_Beam_DF m on d.url = m.link\n",
    "group by d.url, musicbrainz_id, discogs_id\n",
    "union all\n",
    "(\n",
    "    select L.url as url, m.url_id as musicbrainz_id, L.label_id as discogs_id, \"Label\" as url_type\n",
    "    from discogs_modeled.LabelURL L\n",
    "    join musicbrainz_modeled.URL_Beam_DF m on L.url = m.link\n",
    "    group by L.url, musicbrainz_id, discogs_id\n",
    ")\n",
    "order by discogs_id\n",
    "limit 10"
   ]
  },
  {
   "cell_type": "code",
   "execution_count": 3,
   "metadata": {},
   "outputs": [
    {
     "data": {
      "text/html": [
       "<div>\n",
       "<style scoped>\n",
       "    .dataframe tbody tr th:only-of-type {\n",
       "        vertical-align: middle;\n",
       "    }\n",
       "\n",
       "    .dataframe tbody tr th {\n",
       "        vertical-align: top;\n",
       "    }\n",
       "\n",
       "    .dataframe thead th {\n",
       "        text-align: right;\n",
       "    }\n",
       "</style>\n",
       "<table border=\"1\" class=\"dataframe\">\n",
       "  <thead>\n",
       "    <tr style=\"text-align: right;\">\n",
       "      <th></th>\n",
       "    </tr>\n",
       "  </thead>\n",
       "  <tbody>\n",
       "  </tbody>\n",
       "</table>\n",
       "</div>"
      ],
      "text/plain": [
       "Empty DataFrame\n",
       "Columns: []\n",
       "Index: []"
      ]
     },
     "execution_count": 3,
     "metadata": {},
     "output_type": "execute_result"
    }
   ],
   "source": [
    "%%bigquery\n",
    "create or replace view reporting.v_shared_urls as \n",
    "(\n",
    "    select d.url as url, m.url_id as musicbrainz_id, d.artist_id as discogs_id, \"Artist\" as url_type\n",
    "    from `earnest-keep-266820.discogs_modeled.Artist_URL` d\n",
    "    join `earnest-keep-266820.musicbrainz_modeled.URL_Beam_DF` m on d.url = m.link\n",
    "    group by d.url, musicbrainz_id, discogs_id\n",
    "\n",
    "    union all\n",
    "    (\n",
    "        select L.url as url, m.url_id as musicbrainz_id, L.label_id as discogs_id, \"Label\" as url_type\n",
    "        from `earnest-keep-266820.discogs_modeled.LabelURL` L\n",
    "        join `earnest-keep-266820.musicbrainz_modeled.URL_Beam_DF` m on L.url = m.link\n",
    "        group by L.url, musicbrainz_id, discogs_id\n",
    "    )\n",
    ")"
   ]
  },
  {
   "cell_type": "markdown",
   "metadata": {},
   "source": [
    "We have linked 45,372 URLs to artists and labels to enrich the musicbrainz dataset."
   ]
  },
  {
   "cell_type": "code",
   "execution_count": 4,
   "metadata": {},
   "outputs": [
    {
     "data": {
      "text/html": [
       "<div>\n",
       "<style scoped>\n",
       "    .dataframe tbody tr th:only-of-type {\n",
       "        vertical-align: middle;\n",
       "    }\n",
       "\n",
       "    .dataframe tbody tr th {\n",
       "        vertical-align: top;\n",
       "    }\n",
       "\n",
       "    .dataframe thead th {\n",
       "        text-align: right;\n",
       "    }\n",
       "</style>\n",
       "<table border=\"1\" class=\"dataframe\">\n",
       "  <thead>\n",
       "    <tr style=\"text-align: right;\">\n",
       "      <th></th>\n",
       "      <th>f0_</th>\n",
       "    </tr>\n",
       "  </thead>\n",
       "  <tbody>\n",
       "    <tr>\n",
       "      <th>0</th>\n",
       "      <td>45372</td>\n",
       "    </tr>\n",
       "  </tbody>\n",
       "</table>\n",
       "</div>"
      ],
      "text/plain": [
       "     f0_\n",
       "0  45372"
      ]
     },
     "execution_count": 4,
     "metadata": {},
     "output_type": "execute_result"
    }
   ],
   "source": [
    "%%bigquery\n",
    "select count(*) from reporting.v_shared_urls"
   ]
  },
  {
   "cell_type": "markdown",
   "metadata": {},
   "source": [
    "Our third query will connect the labels from the discogs dataset to those in the musicbrainz dataset. The two Label tables will be joined along shared label names. The group by statement is used because the musicbrainz dataset has multiple records for some labels with distinct label ids. Meanwhile, the discogs dataset has only one label id for the label of that name. The group by is performed on the discogs label name becuase it seems that musicbrainz may include redundant data."
   ]
  },
  {
   "cell_type": "code",
   "execution_count": 2,
   "metadata": {},
   "outputs": [
    {
     "data": {
      "text/html": [
       "<div>\n",
       "<style scoped>\n",
       "    .dataframe tbody tr th:only-of-type {\n",
       "        vertical-align: middle;\n",
       "    }\n",
       "\n",
       "    .dataframe tbody tr th {\n",
       "        vertical-align: top;\n",
       "    }\n",
       "\n",
       "    .dataframe thead th {\n",
       "        text-align: right;\n",
       "    }\n",
       "</style>\n",
       "<table border=\"1\" class=\"dataframe\">\n",
       "  <thead>\n",
       "    <tr style=\"text-align: right;\">\n",
       "      <th></th>\n",
       "      <th>discogs_label_name</th>\n",
       "    </tr>\n",
       "  </thead>\n",
       "  <tbody>\n",
       "    <tr>\n",
       "      <th>0</th>\n",
       "      <td>Cutty Shark</td>\n",
       "    </tr>\n",
       "    <tr>\n",
       "      <th>1</th>\n",
       "      <td>CBS Direct</td>\n",
       "    </tr>\n",
       "    <tr>\n",
       "      <th>2</th>\n",
       "      <td>I.L.S.</td>\n",
       "    </tr>\n",
       "    <tr>\n",
       "      <th>3</th>\n",
       "      <td>Gerth Medien</td>\n",
       "    </tr>\n",
       "    <tr>\n",
       "      <th>4</th>\n",
       "      <td>Mökkitie Records</td>\n",
       "    </tr>\n",
       "    <tr>\n",
       "      <th>5</th>\n",
       "      <td>New World Records</td>\n",
       "    </tr>\n",
       "    <tr>\n",
       "      <th>6</th>\n",
       "      <td>Trance Communications Records</td>\n",
       "    </tr>\n",
       "    <tr>\n",
       "      <th>7</th>\n",
       "      <td>Nuf Sed</td>\n",
       "    </tr>\n",
       "    <tr>\n",
       "      <th>8</th>\n",
       "      <td>Steady Beat Records</td>\n",
       "    </tr>\n",
       "    <tr>\n",
       "      <th>9</th>\n",
       "      <td>6K Music</td>\n",
       "    </tr>\n",
       "  </tbody>\n",
       "</table>\n",
       "</div>"
      ],
      "text/plain": [
       "              discogs_label_name\n",
       "0                    Cutty Shark\n",
       "1                     CBS Direct\n",
       "2                         I.L.S.\n",
       "3                   Gerth Medien\n",
       "4               Mökkitie Records\n",
       "5              New World Records\n",
       "6  Trance Communications Records\n",
       "7                        Nuf Sed\n",
       "8            Steady Beat Records\n",
       "9                       6K Music"
      ]
     },
     "execution_count": 2,
     "metadata": {},
     "output_type": "execute_result"
    }
   ],
   "source": [
    "%%bigquery\n",
    "select l.label_name as discogs_label_name\n",
    "from discogs_modeled.Label_SQL_Final as l\n",
    "join musicbrainz_modeled.Label_Beam_DF as m\n",
    "on m.label_name = l.label_name\n",
    "group by l.label_name\n",
    "limit 10"
   ]
  },
  {
   "cell_type": "markdown",
   "metadata": {},
   "source": [
    "To make a good visualization in Data Studio, I would like to show what portion of all the distinct labels in our database is shared between the musicbrainz and discogs datasets. I will use the query above, which shows the intersection of both the datasets, to partition the union of all the labels into three categories: those that belong to just musicbrainz, those that belong to just discogs, and those that are shared by both. \n",
    "\n",
    "The first part of this union finds the labels in musicbrainz that do not exist in the intersection. They are classified as being exclusively labels in the musicbrainz set. The second part of the union finds the labels exclusively in the discogs dataset and classifies them as such. The third part of the union is the intersection that was used in the previous two parts when finding the XOR of the whole label domain."
   ]
  },
  {
   "cell_type": "code",
   "execution_count": 2,
   "metadata": {},
   "outputs": [
    {
     "data": {
      "text/html": [
       "<div>\n",
       "<style scoped>\n",
       "    .dataframe tbody tr th:only-of-type {\n",
       "        vertical-align: middle;\n",
       "    }\n",
       "\n",
       "    .dataframe tbody tr th {\n",
       "        vertical-align: top;\n",
       "    }\n",
       "\n",
       "    .dataframe thead th {\n",
       "        text-align: right;\n",
       "    }\n",
       "</style>\n",
       "<table border=\"1\" class=\"dataframe\">\n",
       "  <thead>\n",
       "    <tr style=\"text-align: right;\">\n",
       "      <th></th>\n",
       "    </tr>\n",
       "  </thead>\n",
       "  <tbody>\n",
       "  </tbody>\n",
       "</table>\n",
       "</div>"
      ],
      "text/plain": [
       "Empty DataFrame\n",
       "Columns: []\n",
       "Index: []"
      ]
     },
     "execution_count": 2,
     "metadata": {},
     "output_type": "execute_result"
    }
   ],
   "source": [
    "%%bigquery\n",
    "create or replace view reporting.v_classified_labels as \n",
    "(\n",
    "    select mL.label_name as label_name, \"MusicBrainz Labels Only\" as domain,\n",
    "    from `earnest-keep-266820.musicbrainz_modeled.Label_Beam_DF` as mL\n",
    "    where mL.label_id not in\n",
    "    (\n",
    "      select m.label_id as mID,\n",
    "      from `earnest-keep-266820.discogs_modeled.Label_SQL_Final` as d\n",
    "      join `earnest-keep-266820.musicbrainz_modeled.Label_Beam_DF` as m\n",
    "      on d.label_name = m.label_name\n",
    "    )\n",
    "    group by label_name\n",
    "\n",
    "    union all\n",
    "\n",
    "    select dL.label_name as label_name, \"Discogs Labels Only\" as domain,\n",
    "    from `earnest-keep-266820.discogs_modeled.Label_SQL_Final` as dL\n",
    "    where dL.label_id not in\n",
    "    (\n",
    "      select d.label_id as dID,\n",
    "      from `earnest-keep-266820.discogs_modeled.Label_SQL_Final` as d\n",
    "      join `earnest-keep-266820.musicbrainz_modeled.Label_Beam_DF` as m\n",
    "      on d.label_name = m.label_name\n",
    "    )\n",
    "    group by label_name\n",
    "\n",
    "    union all\n",
    "\n",
    "    select d.label_name as label_name, \"Shared Labels\" as domain,\n",
    "    from `earnest-keep-266820.discogs_modeled.Label_SQL_Final` as d\n",
    "    join `earnest-keep-266820.musicbrainz_modeled.Label_Beam_DF` as m\n",
    "    on d.label_name = m.label_name\n",
    "    group by label_name\n",
    ")"
   ]
  },
  {
   "cell_type": "markdown",
   "metadata": {},
   "source": [
    "There were 1,560,508 disctinct music labels total in the database."
   ]
  },
  {
   "cell_type": "code",
   "execution_count": 3,
   "metadata": {},
   "outputs": [
    {
     "data": {
      "text/html": [
       "<div>\n",
       "<style scoped>\n",
       "    .dataframe tbody tr th:only-of-type {\n",
       "        vertical-align: middle;\n",
       "    }\n",
       "\n",
       "    .dataframe tbody tr th {\n",
       "        vertical-align: top;\n",
       "    }\n",
       "\n",
       "    .dataframe thead th {\n",
       "        text-align: right;\n",
       "    }\n",
       "</style>\n",
       "<table border=\"1\" class=\"dataframe\">\n",
       "  <thead>\n",
       "    <tr style=\"text-align: right;\">\n",
       "      <th></th>\n",
       "      <th>f0_</th>\n",
       "    </tr>\n",
       "  </thead>\n",
       "  <tbody>\n",
       "    <tr>\n",
       "      <th>0</th>\n",
       "      <td>1560508</td>\n",
       "    </tr>\n",
       "  </tbody>\n",
       "</table>\n",
       "</div>"
      ],
      "text/plain": [
       "       f0_\n",
       "0  1560508"
      ]
     },
     "execution_count": 3,
     "metadata": {},
     "output_type": "execute_result"
    }
   ],
   "source": [
    "%%bigquery\n",
    "select count(*) from reporting.v_classified_labels"
   ]
  },
  {
   "cell_type": "markdown",
   "metadata": {},
   "source": [
    "Of all the labels there are 114,138 of them that are shared between the two datasets"
   ]
  },
  {
   "cell_type": "code",
   "execution_count": 4,
   "metadata": {},
   "outputs": [
    {
     "data": {
      "text/html": [
       "<div>\n",
       "<style scoped>\n",
       "    .dataframe tbody tr th:only-of-type {\n",
       "        vertical-align: middle;\n",
       "    }\n",
       "\n",
       "    .dataframe tbody tr th {\n",
       "        vertical-align: top;\n",
       "    }\n",
       "\n",
       "    .dataframe thead th {\n",
       "        text-align: right;\n",
       "    }\n",
       "</style>\n",
       "<table border=\"1\" class=\"dataframe\">\n",
       "  <thead>\n",
       "    <tr style=\"text-align: right;\">\n",
       "      <th></th>\n",
       "      <th>f0_</th>\n",
       "    </tr>\n",
       "  </thead>\n",
       "  <tbody>\n",
       "    <tr>\n",
       "      <th>0</th>\n",
       "      <td>114138</td>\n",
       "    </tr>\n",
       "  </tbody>\n",
       "</table>\n",
       "</div>"
      ],
      "text/plain": [
       "      f0_\n",
       "0  114138"
      ]
     },
     "execution_count": 4,
     "metadata": {},
     "output_type": "execute_result"
    }
   ],
   "source": [
    "%%bigquery\n",
    "select count(*) from reporting.v_classified_labels\n",
    "where domain = \"Shared Labels\""
   ]
  },
  {
   "cell_type": "code",
   "execution_count": null,
   "metadata": {},
   "outputs": [],
   "source": []
  }
 ],
 "metadata": {
  "kernelspec": {
   "display_name": "Python 3",
   "language": "python",
   "name": "python3"
  },
  "language_info": {
   "codemirror_mode": {
    "name": "ipython",
    "version": 3
   },
   "file_extension": ".py",
   "mimetype": "text/x-python",
   "name": "python",
   "nbconvert_exporter": "python",
   "pygments_lexer": "ipython3",
   "version": "3.5.3"
  }
 },
 "nbformat": 4,
 "nbformat_minor": 4
}
